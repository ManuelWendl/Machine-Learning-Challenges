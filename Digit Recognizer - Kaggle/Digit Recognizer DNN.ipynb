{
 "cells": [
  {
   "cell_type": "markdown",
   "metadata": {
    "collapsed": true,
    "pycharm": {
     "name": "#%% md\n"
    }
   },
   "source": [
    "# Digit Recognizer\n",
    "## Kaggle competition\n",
    "### Learn computer vision fundamentals with the famous MNIST data"
   ]
  },
  {
   "cell_type": "markdown",
   "source": [
    "### Import Data\n",
    "Dataset is downloaded from https://www.kaggle.com/c/digit-recognizer/data?select=test.csv"
   ],
   "metadata": {
    "collapsed": false,
    "pycharm": {
     "name": "#%% md\n"
    }
   }
  },
  {
   "cell_type": "code",
   "execution_count": 65,
   "outputs": [],
   "source": [
    "import pandas as pd\n",
    "import numpy as np\n",
    "\n",
    "train = pd.read_csv('train.csv')\n",
    "train_data = np.array(train)\n",
    "train_tar = train_data[:,0]\n",
    "train_data = train_data[:,1:]\n",
    "train_data = 0.99*train_data/255 + 0.1\n",
    "\n",
    "imagesize = 28\n",
    "imagenumb = len(train_tar)\n",
    "\n",
    "train_target = np.zeros((len(train_tar),10))\n",
    "for i in range(len(train_target)):\n",
    "    train_target[i,train_tar[i]] = 1"
   ],
   "metadata": {
    "collapsed": false,
    "pycharm": {
     "name": "#%%\n"
    }
   }
  },
  {
   "cell_type": "markdown",
   "source": [
    "### Implement Neural Network\n"
   ],
   "metadata": {
    "collapsed": false,
    "pycharm": {
     "name": "#%% md\n"
    }
   }
  },
  {
   "cell_type": "code",
   "execution_count": 66,
   "outputs": [],
   "source": [
    "def sigmoid(x):\n",
    "    return 1/(1+np.e ** -x)\n",
    "def d_sigmoid(x):\n",
    "    return x * (1-x)\n",
    "\n",
    "activation_func = sigmoid\n",
    "d_activation_func = d_sigmoid\n",
    "\n",
    "NN_architecture = [\n",
    "    {\"inputs\":imagesize **2, \"neurons\":128},\n",
    "    {\"inputs\":128,            \"neurons\":64},\n",
    "    {\"inputs\":64,            \"neurons\":32},\n",
    "    {\"inputs\":32,            \"neurons\":16},\n",
    "    {\"inputs\":16,            \"neurons\":10}\n",
    "]\n",
    "\n",
    "def forward_single_layer(out_prev, w_curr, b_curr):\n",
    "        return activation_func(np.dot(w_curr, out_prev)+b_curr)\n",
    "\n",
    "class NeuralNetwork:\n",
    "    def __init__(self, architecture):\n",
    "        self.architecture = architecture\n",
    "        self.parameters = {}\n",
    "        for idx, layer in enumerate(architecture):\n",
    "            layer_idx = idx+1\n",
    "            layer_input = layer[\"inputs\"]\n",
    "            layer_output = layer[\"neurons\"]\n",
    "            self.parameters['W'+str(layer_idx)] = np.random.randn(layer_output,layer_input)\n",
    "            self.parameters['B'+str(layer_idx)] = np.random.randn(layer_output,1)\n",
    "\n",
    "    def forward_propagation(self, inputs):\n",
    "        inputs = np.array(inputs, ndmin=2).T\n",
    "        out_curr = inputs\n",
    "        memory = {}\n",
    "        for idx, layer in enumerate(self.architecture):\n",
    "            layer_idx = idx+1\n",
    "            w_curr = self.parameters[\"W\"+str(layer_idx)]\n",
    "            b_curr = self.parameters[\"B\"+str(layer_idx)]\n",
    "            out_curr = forward_single_layer(out_prev=out_curr,w_curr=w_curr,b_curr=b_curr)\n",
    "            memory[idx] = out_curr\n",
    "        return out_curr, memory\n",
    "\n",
    "\n",
    "    def train_iteration(self, inputs, target, learn_rate):\n",
    "        target = np.array(target, ndmin=2).T\n",
    "        output, memory = self.forward_propagation(inputs)\n",
    "        inputs = np.array(inputs, ndmin=2).T\n",
    "        loss = 0\n",
    "        for idx, layer in reversed(list(enumerate(self.architecture))):\n",
    "            layer_idx = idx+1\n",
    "            if layer_idx == len(self.architecture):\n",
    "                loss += target - output\n",
    "                adjust_w = 1/layer[\"inputs\"]*learn_rate*(loss*d_activation_func(memory[idx])).dot(memory[idx-1].T)\n",
    "                adjust_b = 1/layer[\"inputs\"]*learn_rate*loss*d_activation_func(memory[idx])\n",
    "                self.parameters[\"W\"+str(layer_idx)] += (adjust_w/learn_rate - adjust_b.dot(np.ones((1,adjust_w.shape[1]))))*learn_rate\n",
    "                self.parameters[\"B\"+str(layer_idx)] += adjust_b\n",
    "            elif layer_idx == 1:\n",
    "                loss = self.parameters[\"W\"+str(layer_idx+1)].T.dot(loss)\n",
    "                adjust_w = 1/layer[\"inputs\"]*learn_rate*(loss*d_activation_func(memory[idx])).dot(inputs.T)\n",
    "                adjust_b = 1/layer[\"inputs\"]*learn_rate*loss*d_activation_func(memory[idx])\n",
    "                self.parameters[\"W\"+str(layer_idx)] += (adjust_w/learn_rate - adjust_b.dot(np.ones((1,adjust_w.shape[1]))))*learn_rate\n",
    "                self.parameters[\"B\"+str(layer_idx)] += adjust_b\n",
    "            else:\n",
    "                loss = self.parameters[\"W\"+str(layer_idx+1)].T.dot(loss)\n",
    "                adjust_w = 1/layer[\"inputs\"]*learn_rate*(loss*d_activation_func(memory[idx])).dot(memory[idx-1].T)\n",
    "                adjust_b = 1/layer[\"inputs\"]*learn_rate*loss*d_activation_func(memory[idx])\n",
    "                self.parameters[\"W\"+str(layer_idx)] += (adjust_w/learn_rate - adjust_b.dot(np.ones((1,adjust_w.shape[1]))))*learn_rate\n",
    "                self.parameters[\"B\"+str(layer_idx)] += adjust_b\n",
    "\n",
    "    def train(self, inputs, targets):\n",
    "        for i in range(0,imagenumb):\n",
    "            inputdata = inputs[i,:]\n",
    "            target = targets[i,:]\n",
    "            self.train_iteration(inputdata, target, 0.1)\n",
    "            if i/imagenumb*100 % 10 == 0:\n",
    "                print('Training state: ', i/imagenumb*100, ' %')\n",
    "\n",
    "NN = NeuralNetwork(NN_architecture)"
   ],
   "metadata": {
    "collapsed": false,
    "pycharm": {
     "name": "#%%\n"
    }
   }
  },
  {
   "cell_type": "markdown",
   "source": [
    "### Train Neural Network\n"
   ],
   "metadata": {
    "collapsed": false,
    "pycharm": {
     "name": "#%% md\n"
    }
   }
  },
  {
   "cell_type": "code",
   "execution_count": 67,
   "outputs": [
    {
     "name": "stdout",
     "output_type": "stream",
     "text": [
      "Training state:  0.0  %\n",
      "Training state:  10.0  %\n",
      "Training state:  20.0  %\n",
      "Training state:  30.0  %\n",
      "Training state:  40.0  %\n",
      "Training state:  50.0  %\n",
      "Training state:  60.0  %\n",
      "Training state:  70.0  %\n",
      "Training state:  80.0  %\n",
      "Training state:  90.0  %\n",
      "Performance:  90.0047619047619 %\n"
     ]
    }
   ],
   "source": [
    "NN.train(train_data,train_target)\n",
    "\n",
    "count = 0\n",
    "number = np.empty(10)\n",
    "for i in range(len(train_tar)):\n",
    "    result, mem = NN.forward_propagation(train_data[i,:])\n",
    "    result = np.argmax(result)\n",
    "    if result == train_tar[i]:\n",
    "        count += 1\n",
    "        number[result] += 1\n",
    "\n",
    "print('Performance: ', count/len(train_tar)*100, '%')"
   ],
   "metadata": {
    "collapsed": false,
    "pycharm": {
     "name": "#%%\n"
    }
   }
  },
  {
   "cell_type": "markdown",
   "source": [
    "### Test Neural Network and Submission"
   ],
   "metadata": {
    "collapsed": false,
    "pycharm": {
     "name": "#%% md\n"
    }
   }
  },
  {
   "cell_type": "code",
   "execution_count": 68,
   "outputs": [],
   "source": [
    "test = pd.read_csv('test.csv')\n",
    "test_data = np.array(test)\n",
    "test_data = 0.99*test_data/255 + 0.1\n",
    "\n",
    "prediction = np.empty(test_data.shape[0])\n",
    "\n",
    "for i in range(test_data.shape[0]):\n",
    "    pred, mem = NN.forward_propagation(test_data[i,:])\n",
    "    prediction[i] = np.argmax(pred)"
   ],
   "metadata": {
    "collapsed": false,
    "pycharm": {
     "name": "#%%\n"
    }
   }
  },
  {
   "cell_type": "code",
   "execution_count": 69,
   "outputs": [],
   "source": [
    "ID = np.arange(1,test_data.shape[0]+1)"
   ],
   "metadata": {
    "collapsed": false,
    "pycharm": {
     "name": "#%%\n"
    }
   }
  },
  {
   "cell_type": "code",
   "execution_count": 70,
   "outputs": [],
   "source": [
    "ID = np.array(ID, ndmin=2, dtype=int).T\n",
    "prediction = np.array(prediction, ndmin=2, dtype=int).T\n",
    "\n",
    "sub = np.hstack((ID,prediction))\n",
    "sub = pd.DataFrame(sub, columns=['ImageId', 'Label'])\n",
    "sub.to_csv('sub.csv', index=False)\n"
   ],
   "metadata": {
    "collapsed": false,
    "pycharm": {
     "name": "#%%\n"
    }
   }
  }
 ],
 "metadata": {
  "kernelspec": {
   "display_name": "Python 3",
   "language": "python",
   "name": "python3"
  },
  "language_info": {
   "codemirror_mode": {
    "name": "ipython",
    "version": 2
   },
   "file_extension": ".py",
   "mimetype": "text/x-python",
   "name": "python",
   "nbconvert_exporter": "python",
   "pygments_lexer": "ipython2",
   "version": "2.7.6"
  }
 },
 "nbformat": 4,
 "nbformat_minor": 0
}
