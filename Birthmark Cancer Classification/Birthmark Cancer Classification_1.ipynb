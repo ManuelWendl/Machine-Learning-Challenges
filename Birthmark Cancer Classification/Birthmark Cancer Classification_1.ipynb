{
 "cells": [
  {
   "cell_type": "markdown",
   "metadata": {
    "collapsed": true,
    "pycharm": {
     "name": "#%% md\n"
    }
   },
   "source": [
    "# Birthmark Cancer Classification\n",
    "### Motivation:\n",
    "This jupyter notebook shall provide an algorithm which detects skin cancer. The\n",
    "objectives are pictures of birthmarks. These were downloaded from the world wide largest\n",
    "skin image dataset on https://www.isic-archive.com/#!/topWithHeader/onlyHeaderTop/gallery?filter=%5B%5D."
   ]
  },
  {
   "cell_type": "markdown",
   "metadata": {
    "pycharm": {
     "name": "#%% md\n"
    }
   },
   "source": [
    "### Importing the Data"
   ]
  },
  {
   "cell_type": "code",
   "execution_count": null,
   "metadata": {
    "pycharm": {
     "is_executing": true,
     "name": "#%%\n"
    }
   },
   "outputs": [],
   "source": [
    "from PIL import Image\n",
    "import numpy as np\n",
    "import matplotlib.pyplot as plt\n",
    "\n",
    "benign_images = []\n",
    "malignant_images = []\n",
    "\n",
    "img_size = (300, 300)\n",
    "\n",
    "for i in range(1,16):\n",
    "    for ii in range(1,81):\n",
    "        img_benign = Image.open('benign_'+str(i)+'/UDA-1/img'+str(ii)+'.jpg').convert('L')\n",
    "        img_malignant = Image.open('malignant_'+str(i)+'/UDA-1/img'+str(ii)+'.jpg').convert('L')\n",
    "        img_benign = img_benign.resize(img_size, Image.ANTIALIAS)\n",
    "        img_malignant = img_malignant.resize(img_size, Image.ANTIALIAS)\n",
    "        benign_images.append(np.asarray(img_benign))\n",
    "        malignant_images.append(np.asarray(img_malignant))"
   ]
  },
  {
   "cell_type": "markdown",
   "metadata": {
    "pycharm": {
     "name": "#%% md\n"
    }
   },
   "source": [
    "### Preprocess Data"
   ]
  },
  {
   "cell_type": "code",
   "execution_count": null,
   "metadata": {
    "pycharm": {
     "is_executing": true,
     "name": "#%%\n"
    }
   },
   "outputs": [],
   "source": [
    "benign_images = np.array(benign_images)\n",
    "malignant_images = np.array(malignant_images)\n",
    "\n",
    "images = np.concatenate([benign_images, malignant_images])\n",
    "labels = np.zeros(2400)\n",
    "labels[1200:] = 1"
   ]
  },
  {
   "cell_type": "code",
   "execution_count": null,
   "metadata": {
    "pycharm": {
     "is_executing": true,
     "name": "#%%\n"
    }
   },
   "outputs": [],
   "source": [
    "from tensorflow.keras.models import Sequential\n",
    "from tensorflow.keras.layers import Conv2D, MaxPool2D, Flatten, Dense, BatchNormalization, Dropout\n",
    "from sklearn.model_selection import train_test_split\n",
    "\n",
    "model = Sequential([\n",
    "    Conv2D(filters=32, kernel_size=(3,3), strides=1, activation='relu',input_shape=(300, 300, 1)),\n",
    "    MaxPool2D(pool_size=(2,2)),\n",
    "    BatchNormalization(),\n",
    "    Conv2D(filters=64, kernel_size=(3,3), strides=1, activation='relu'),\n",
    "    Conv2D(filters=64, kernel_size=(3,3), strides=1, activation='relu'),\n",
    "    MaxPool2D(pool_size=(2,2)),\n",
    "    BatchNormalization(),\n",
    "    Dropout(.3),\n",
    "    Conv2D(filters=64, kernel_size=(3,3), strides=1, activation='relu'),\n",
    "    Conv2D(filters=64, kernel_size=(3,3), strides=1, activation='relu'),\n",
    "    MaxPool2D(pool_size=(2,2)),\n",
    "    BatchNormalization(),\n",
    "    Dropout(.3),\n",
    "    Conv2D(filters=64, kernel_size=(3,3), strides=1, activation='relu'),\n",
    "    Conv2D(filters=64, kernel_size=(3,3), strides=1, activation='relu'),\n",
    "    MaxPool2D(pool_size=(2,2)),\n",
    "    BatchNormalization(),\n",
    "    Dropout(.3),\n",
    "    Conv2D(filters=64, kernel_size=(3,3), strides=1, activation='relu'),\n",
    "    Conv2D(filters=64, kernel_size=(3,3), strides=1, activation='relu'),\n",
    "    MaxPool2D(pool_size=(2,2)),\n",
    "    BatchNormalization(),\n",
    "    Dropout(.3),\n",
    "    Flatten(),\n",
    "    Dense(200, activation='relu'),\n",
    "    Dense(20, activation='relu'),\n",
    "    Dense(2, activation='softmax')\n",
    "])\n",
    "\n",
    "model.summary()"
   ]
  },
  {
   "cell_type": "code",
   "execution_count": null,
   "metadata": {
    "pycharm": {
     "is_executing": true,
     "name": "#%%\n"
    }
   },
   "outputs": [],
   "source": [
    "import tensorflow as tf\n",
    "\n",
    "model.compile(optimizer='adam', loss=tf.keras.losses.SparseCategoricalCrossentropy(from_logits=True), metrics=['accuracy'])\n",
    "images = images.reshape((-1,300,300,1))\n",
    "\n",
    "perm = np.random.permutation(2400)\n",
    "images = images[perm,:,:,:]\n",
    "labels = labels[perm]\n",
    "\n",
    "train_images, test_images, train_labels, test_labels = train_test_split( images, labels, test_size=0.1)\n",
    "\n",
    "history = model.fit(train_images, train_labels, epochs=50, batch_size=20, validation_data=(test_images, test_labels))\n"
   ]
  },
  {
   "cell_type": "code",
   "execution_count": null,
   "metadata": {
    "pycharm": {
     "is_executing": true,
     "name": "#%%\n"
    }
   },
   "outputs": [],
   "source": [
    "plt.figure()\n",
    "plt.title('accuracy')\n",
    "plt.plot(history.history['accuracy'])\n",
    "plt.plot(history.history['val_accuracy'])\n",
    "plt.legend(['train-accuracy','validation-accuracy'])\n",
    "plt.show()"
   ]
  },
  {
   "cell_type": "markdown",
   "metadata": {
    "pycharm": {
     "name": "#%% md\n"
    }
   },
   "source": [
    "### Save Model"
   ]
  },
  {
   "cell_type": "code",
   "execution_count": null,
   "metadata": {
    "pycharm": {
     "is_executing": true,
     "name": "#%%\n"
    }
   },
   "outputs": [],
   "source": [
    "model.save('model_deep_architecture.h5')"
   ]
  },
  {
   "cell_type": "markdown",
   "metadata": {
    "pycharm": {
     "name": "#%% md\n"
    }
   },
   "source": [
    "### Visualisation of test cases"
   ]
  },
  {
   "cell_type": "code",
   "execution_count": null,
   "metadata": {
    "pycharm": {
     "is_executing": true,
     "name": "#%%\n"
    }
   },
   "outputs": [],
   "source": [
    "predict = model.predict(test_images)\n",
    "\n",
    "plt.figure(figsize=(40,40))\n",
    "for i in range(25):\n",
    "    plt.subplot(5,5,i+1)\n",
    "    plt.imshow(test_images[i,:,:,:].reshape(300,300), cmap='gray')\n",
    "    plt.title('True: '+str(int(test_labels[i]))+'  Prediction: '+str(np.argmax(predict[i,:]))+' Propability: '+str(np.max(predict[i,:])))"
   ]
  },
  {
   "cell_type": "code",
   "execution_count": null,
   "metadata": {
    "pycharm": {
     "is_executing": true,
     "name": "#%%\n"
    }
   },
   "outputs": [],
   "source": [
    "from sklearn.metrics import confusion_matrix\n",
    "\n",
    "pred = np.zeros(len(predict))\n",
    "for i in range(len(predict)):\n",
    "    pred[i] = np.argmax(predict[i])\n",
    "\n",
    "print('Confusion Matrix:')\n",
    "print(confusion_matrix(test_labels,pred))"
   ]
  },
  {
   "cell_type": "code",
   "execution_count": null,
   "metadata": {
    "pycharm": {
     "is_executing": true,
     "name": "#%%\n"
    }
   },
   "outputs": [],
   "source": []
  }
 ],
 "metadata": {
  "kernelspec": {
   "display_name": "Python 3",
   "language": "python",
   "name": "python3"
  },
  "language_info": {
   "codemirror_mode": {
    "name": "ipython",
    "version": 3
   },
   "file_extension": ".py",
   "mimetype": "text/x-python",
   "name": "python",
   "nbconvert_exporter": "python",
   "pygments_lexer": "ipython3",
   "version": "3.8.8"
  }
 },
 "nbformat": 4,
 "nbformat_minor": 1
}
