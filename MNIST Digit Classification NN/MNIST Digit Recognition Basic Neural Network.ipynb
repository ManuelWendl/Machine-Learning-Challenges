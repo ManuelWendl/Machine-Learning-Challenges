{
 "cells": [
  {
   "cell_type": "markdown",
   "metadata": {
    "collapsed": true,
    "pycharm": {
     "name": "#%% md\n"
    }
   },
   "source": [
    "# Mnist Dataset - Digit Recognition\n",
    "This will be done with the help of a simple shallow Neural Network with two hidden layers and only weight based (w.o. bias).\n",
    "The number of neurons can be changed within the code.\n",
    "> - First step: Importing the Dataset\n",
    "> - Second step: The fundamental functions (Sigmoid) are implemented\n",
    "> - Third step: The neural network is implemented and initialised\n",
    "> - Fourth step: The Network is getting trained\n",
    "> - Fifth step: The Classification is tested and validated"
   ]
  },
  {
   "cell_type": "markdown",
   "source": [
    "### Import and Preprocess Data\n",
    "Images reshaped into column vectors (no convolutional NN).\n",
    "All values into range $ (0,1] $. Zero values hinder weight updates during backpropagation."
   ],
   "metadata": {
    "collapsed": false,
    "pycharm": {
     "name": "#%% md\n"
    }
   }
  },
  {
   "cell_type": "code",
   "source": [
    "import numpy as np\n",
    "import matplotlib.pyplot as plt\n",
    "import idx2numpy\n",
    "\n",
    "train_imagesimp = idx2numpy.convert_from_file('train-images.idx3-ubyte')\n",
    "train_labelsimp = idx2numpy.convert_from_file('train-labels.idx1-ubyte')\n",
    "\n",
    "imagesize = 28\n",
    "imagenumb = 60000\n",
    "train_images = np.zeros((imagesize ** 2, imagenumb))\n",
    "\n",
    "for i in range(0, imagenumb):\n",
    "    train_images[:, i] = train_imagesimp[i].reshape(imagesize ** 2)\n",
    "\n",
    "train_images = 0.99*train_images/255 + 0.01\n",
    "\n",
    "train_labels = np.zeros((10, imagenumb))\n",
    "\n",
    "for i in range(0, imagenumb):\n",
    "    train_labels[train_labelsimp[i], i] = 1\n",
    "\n",
    "plt.figure(figsize=(20,5))\n",
    "plt.title('NMIST Dataset')\n",
    "for i in range(1,6):\n",
    "    plt.subplot(1,5,i)\n",
    "    plt.imshow(train_images[:,i-1].reshape(28,28), cmap='gray')\n",
    "    plt.axis('off')\n",
    "    plt.title('Number '+str(train_labelsimp[i-1]))\n",
    "plt.show()\n",
    "print('Example target for first digit: '+str(train_labels[:,0]))"
   ],
   "metadata": {
    "collapsed": false,
    "pycharm": {
     "name": "#%%\n"
    }
   },
   "execution_count": 1,
   "outputs": [
    {
     "data": {
      "text/plain": "<Figure size 1440x360 with 5 Axes>",
      "image/png": "[encoded data removed]"
     },
     "metadata": {
      "needs_background": "light"
     },
     "output_type": "display_data"
    },
    {
     "name": "stdout",
     "output_type": "stream",
     "text": [
      "Example target for first digit: [0. 0. 0. 0. 0. 1. 0. 0. 0. 0.]\n"
     ]
    }
   ]
  },
  {
   "cell_type": "markdown",
   "source": [
    "### Basic Functions\n",
    "Activation functions:\n",
    ">Sigmoid function: $$ y = \\frac{1}{1+e^{-x}} $$\n"
   ],
   "metadata": {
    "collapsed": false,
    "pycharm": {
     "name": "#%% md\n"
    }
   }
  },
  {
   "cell_type": "code",
   "execution_count": 2,
   "outputs": [],
   "source": [
    "def sigmoid(x):\n",
    "    return 1/(1+np.e ** -x)\n",
    "\n",
    "activation_func = sigmoid"
   ],
   "metadata": {
    "collapsed": false,
    "pycharm": {
     "name": "#%%\n"
    }
   }
  },
  {
   "cell_type": "markdown",
   "source": [
    "### Neural Network Implementation"
   ],
   "metadata": {
    "collapsed": false,
    "pycharm": {
     "name": "#%% md\n"
    }
   }
  },
  {
   "cell_type": "code",
   "execution_count": 3,
   "outputs": [],
   "source": [
    "class NeuralNetwork:\n",
    "    def __init__(self, no_inputs, no_outputs, no_nodes_hidden_layer1\n",
    "                 , no_nodes_hidden_layer2, learn_rate):\n",
    "        self.no_inputs = no_inputs\n",
    "        self.no_outputs = no_outputs\n",
    "        self.no_nodes_hidden_layer1 = no_nodes_hidden_layer1\n",
    "        self.no_nodes_hidden_layer2 = no_nodes_hidden_layer2\n",
    "        self.learn_rate = learn_rate\n",
    "        self.wih1 = np.random.rand(self.no_nodes_hidden_layer1,self.no_inputs)*(1/no_nodes_hidden_layer1)\n",
    "        self.wh1h2 = np.random.rand(self.no_nodes_hidden_layer2, self.no_nodes_hidden_layer1)*(1/no_nodes_hidden_layer2)\n",
    "        self.wh2o = np.random.rand(self.no_outputs, self.no_nodes_hidden_layer2)*(1/no_outputs)\n",
    "\n",
    "    def train_iteration(self, input_data, target):\n",
    "        input_data = np.array(input_data, ndmin=2).T\n",
    "        target = np.array(target, ndmin=2).T\n",
    "        outh1 = activation_func(self.wih1.dot(input_data))\n",
    "        outh2 = activation_func(self.wh1h2.dot(outh1))\n",
    "        out = activation_func(self.wh2o.dot(outh2))\n",
    "        # Calculate Loss\n",
    "        loss = target - out\n",
    "        # Update weights wh2o\n",
    "        adjust = self.learn_rate * (loss * out * (1.0 -out)).dot(outh2.T)\n",
    "        self.wh2o += adjust\n",
    "        # Update weights wh1h2\n",
    "        lossh2 = self.wh2o.T.dot(loss)\n",
    "        adjust = self.learn_rate * (lossh2 * outh2 *(1.0 -outh2)).dot(outh1.T)\n",
    "        self.wh1h2 += adjust\n",
    "        # Update weights wih1\n",
    "        lossh1 = self.wh1h2.T.dot(lossh2)\n",
    "        adjust = self.learn_rate * (lossh1 * outh1 *(1.0 -outh1)).dot(input_data.T)\n",
    "        self.wih1 += adjust\n",
    "\n",
    "    def train(self, inputs, targets):\n",
    "        for i in range(0,imagenumb):\n",
    "            inputdata = inputs[:,i]\n",
    "            target = targets[:,i]\n",
    "            self.train_iteration(inputdata, target)\n",
    "            if i/imagenumb*100 % 10 == 0:\n",
    "                print('Training state: ', i/imagenumb*100, ' %')\n",
    "\n",
    "    def classify(self, input_data):\n",
    "        input_data = np.array(input_data, ndmin=2).T\n",
    "        outh1 = activation_func(self.wih1.dot(input_data))\n",
    "        outh2 = activation_func(self.wh1h2.dot(outh1))\n",
    "        out = activation_func(self.wh2o.dot(outh2))\n",
    "        return out"
   ],
   "metadata": {
    "collapsed": false,
    "pycharm": {
     "name": "#%%\n"
    }
   }
  },
  {
   "cell_type": "markdown",
   "source": [
    "### Train Network with Trainings Data\n"
   ],
   "metadata": {
    "collapsed": false,
    "pycharm": {
     "name": "#%% md\n"
    }
   }
  },
  {
   "cell_type": "code",
   "execution_count": 4,
   "outputs": [
    {
     "name": "stdout",
     "output_type": "stream",
     "text": [
      "Training state:  0.0  %\n",
      "Training state:  10.0  %\n",
      "Training state:  20.0  %\n",
      "Training state:  30.0  %\n",
      "Training state:  40.0  %\n",
      "Training state:  50.0  %\n",
      "Training state:  60.0  %\n",
      "Training state:  70.0  %\n",
      "Training state:  80.0  %\n",
      "Training state:  90.0  %\n"
     ]
    }
   ],
   "source": [
    "NN = NeuralNetwork(no_inputs=imagesize**2, no_outputs=10,\n",
    "                     no_nodes_hidden_layer1=200,\n",
    "                     no_nodes_hidden_layer2=60, learn_rate=0.1)\n",
    "NN.train(train_images,train_labels)"
   ],
   "metadata": {
    "collapsed": false,
    "pycharm": {
     "name": "#%%\n"
    }
   }
  },
  {
   "cell_type": "markdown",
   "source": [
    "### Test classification and validation\n",
    "Therefore, the test dataset of the MNIST Dataset is chosen.\n",
    "These are totally new images, which were not contained in the trainings dataset\n"
   ],
   "metadata": {
    "collapsed": false,
    "pycharm": {
     "name": "#%% md\n"
    }
   }
  },
  {
   "cell_type": "code",
   "execution_count": 5,
   "outputs": [
    {
     "name": "stdout",
     "output_type": "stream",
     "text": [
      "True Digit: 7\t Classified Digit: 7\n",
      "True Digit: 2\t Classified Digit: 2\n",
      "True Digit: 1\t Classified Digit: 1\n",
      "True Digit: 0\t Classified Digit: 0\n",
      "True Digit: 4\t Classified Digit: 4\n",
      "True Digit: 1\t Classified Digit: 1\n",
      "True Digit: 4\t Classified Digit: 4\n",
      "True Digit: 9\t Classified Digit: 9\n",
      "True Digit: 5\t Classified Digit: 6\t Failed !\n",
      "True Digit: 9\t Classified Digit: 9\n",
      "True Digit: 0\t Classified Digit: 0\n",
      "True Digit: 6\t Classified Digit: 6\n",
      "True Digit: 9\t Classified Digit: 9\n",
      "True Digit: 0\t Classified Digit: 0\n",
      "True Digit: 1\t Classified Digit: 1\n",
      "True Digit: 5\t Classified Digit: 3\t Failed !\n",
      "True Digit: 9\t Classified Digit: 9\n",
      "True Digit: 7\t Classified Digit: 7\n",
      "True Digit: 3\t Classified Digit: 3\n",
      "True Digit: 4\t Classified Digit: 4\n",
      "True Digit: 9\t Classified Digit: 9\n",
      "True Digit: 6\t Classified Digit: 6\n",
      "True Digit: 6\t Classified Digit: 6\n",
      "True Digit: 5\t Classified Digit: 5\n",
      "True Digit: 4\t Classified Digit: 4\n",
      "True Digit: 0\t Classified Digit: 0\n",
      "True Digit: 7\t Classified Digit: 7\n",
      "True Digit: 4\t Classified Digit: 4\n",
      "True Digit: 0\t Classified Digit: 0\n",
      "True Digit: 1\t Classified Digit: 1\n",
      "True Digit: 3\t Classified Digit: 3\n",
      "True Digit: 1\t Classified Digit: 1\n",
      "True Digit: 3\t Classified Digit: 3\n",
      "True Digit: 4\t Classified Digit: 6\t Failed !\n",
      "True Digit: 7\t Classified Digit: 7\n",
      "True Digit: 2\t Classified Digit: 2\n",
      "True Digit: 7\t Classified Digit: 7\n",
      "True Digit: 1\t Classified Digit: 1\n",
      "True Digit: 2\t Classified Digit: 3\t Failed !\n",
      "True Digit: 1\t Classified Digit: 1\n",
      "True Digit: 1\t Classified Digit: 1\n",
      "True Digit: 7\t Classified Digit: 7\n",
      "True Digit: 4\t Classified Digit: 4\n",
      "True Digit: 2\t Classified Digit: 2\n",
      "True Digit: 3\t Classified Digit: 3\n",
      "True Digit: 5\t Classified Digit: 5\n",
      "True Digit: 1\t Classified Digit: 1\n",
      "True Digit: 2\t Classified Digit: 2\n",
      "True Digit: 4\t Classified Digit: 4\n",
      "True Digit: 4\t Classified Digit: 4\n",
      "True Digit: 6\t Classified Digit: 6\n",
      "True Digit: 3\t Classified Digit: 3\n",
      "True Digit: 5\t Classified Digit: 5\n",
      "True Digit: 5\t Classified Digit: 3\t Failed !\n",
      "True Digit: 6\t Classified Digit: 6\n",
      "True Digit: 0\t Classified Digit: 0\n",
      "True Digit: 4\t Classified Digit: 4\n",
      "True Digit: 1\t Classified Digit: 1\n",
      "True Digit: 9\t Classified Digit: 9\n",
      "True Digit: 5\t Classified Digit: 5\n",
      "True Digit: 7\t Classified Digit: 7\n",
      "True Digit: 8\t Classified Digit: 8\n",
      "True Digit: 9\t Classified Digit: 9\n",
      "True Digit: 3\t Classified Digit: 3\n",
      "True Digit: 7\t Classified Digit: 7\n",
      "True Digit: 4\t Classified Digit: 4\n",
      "True Digit: 6\t Classified Digit: 2\t Failed !\n",
      "True Digit: 4\t Classified Digit: 4\n",
      "True Digit: 3\t Classified Digit: 3\n",
      "True Digit: 0\t Classified Digit: 0\n",
      "True Digit: 7\t Classified Digit: 7\n",
      "True Digit: 0\t Classified Digit: 0\n",
      "True Digit: 2\t Classified Digit: 2\n",
      "True Digit: 9\t Classified Digit: 9\n",
      "True Digit: 1\t Classified Digit: 1\n",
      "True Digit: 7\t Classified Digit: 7\n",
      "True Digit: 3\t Classified Digit: 3\n",
      "True Digit: 2\t Classified Digit: 2\n",
      "True Digit: 9\t Classified Digit: 9\n",
      "True Digit: 7\t Classified Digit: 7\n",
      "True Digit: 7\t Classified Digit: 9\t Failed !\n",
      "True Digit: 6\t Classified Digit: 6\n",
      "True Digit: 2\t Classified Digit: 2\n",
      "True Digit: 7\t Classified Digit: 7\n",
      "True Digit: 8\t Classified Digit: 8\n",
      "True Digit: 4\t Classified Digit: 4\n",
      "True Digit: 7\t Classified Digit: 7\n",
      "True Digit: 3\t Classified Digit: 3\n",
      "True Digit: 6\t Classified Digit: 6\n",
      "True Digit: 1\t Classified Digit: 1\n",
      "True Digit: 3\t Classified Digit: 3\n",
      "True Digit: 6\t Classified Digit: 6\n",
      "True Digit: 9\t Classified Digit: 9\n",
      "True Digit: 3\t Classified Digit: 3\n",
      "True Digit: 1\t Classified Digit: 1\n",
      "True Digit: 4\t Classified Digit: 4\n",
      "True Digit: 1\t Classified Digit: 1\n",
      "True Digit: 7\t Classified Digit: 7\n",
      "True Digit: 6\t Classified Digit: 6\n",
      "True Digit: 9\t Classified Digit: 9\n"
     ]
    },
    {
     "data": {
      "text/plain": "<Figure size 432x288 with 100 Axes>",
      "image/png": "[encoded data removed]"
     },
     "metadata": {
      "needs_background": "light"
     },
     "output_type": "display_data"
    }
   ],
   "source": [
    "test_imagesimp = idx2numpy.convert_from_file('t10k-images.idx3-ubyte')\n",
    "test_labels = idx2numpy.convert_from_file('t10k-labels.idx1-ubyte')\n",
    "\n",
    "imagenumb = len(test_labels)\n",
    "\n",
    "test_images = np.zeros((imagesize ** 2, imagenumb))\n",
    "\n",
    "for i in range(0, imagenumb):\n",
    "    test_images[:, i] = test_imagesimp[i].reshape(imagesize ** 2)\n",
    "\n",
    "test_images = 0.99*test_images/255 + 0.01\n",
    "\n",
    "for i in range(0,100):\n",
    "    result = NN.classify(test_images[:,i])\n",
    "    text = \"True Digit: \"+str(test_labels[i])+\"\\t Classified Digit: \"+str(np.argmax(result))\n",
    "    if test_labels[i] != np.argmax(result):\n",
    "        print(text + '\\t Failed !')\n",
    "    else:\n",
    "        print(text)\n",
    "    plt.subplot(10,10,i+1)\n",
    "    plt.imshow(test_images[:,i].reshape(imagesize,imagesize), cmap='gray')\n",
    "    plt.axis('off')"
   ],
   "metadata": {
    "collapsed": false,
    "pycharm": {
     "name": "#%%\n"
    }
   }
  },
  {
   "cell_type": "markdown",
   "source": [
    "### Validation"
   ],
   "metadata": {
    "collapsed": false,
    "pycharm": {
     "name": "#%% md\n"
    }
   }
  },
  {
   "cell_type": "code",
   "execution_count": 6,
   "outputs": [
    {
     "name": "stdout",
     "output_type": "stream",
     "text": [
      "Number of classifications:  10000\n",
      "Performance of the NN:  0.8976\n",
      "[ 45.  45. 113. 368.  63.  16.  47.  25. 100. 206.]\n"
     ]
    },
    {
     "data": {
      "text/plain": "<Figure size 432x288 with 1 Axes>",
      "image/png": "[encoded data removed]"
     },
     "metadata": {
      "needs_background": "light"
     },
     "output_type": "display_data"
    }
   ],
   "source": [
    "count = 0\n",
    "number = np.empty(10)\n",
    "for i in range(len(test_labels)):\n",
    "    result = np.argmax(NN.classify(test_images[:,i]))\n",
    "    if result != test_labels[i]:\n",
    "        count += 1\n",
    "        number[result] += 1\n",
    "\n",
    "print('Number of classifications: ', str(len(test_labels)))\n",
    "print('Performance of the NN: ', str(1-count/len(test_labels)))\n",
    "print(number)\n",
    "digits = ['0','1','2','3','4','5','6','7','8','9']\n",
    "plt.figure()\n",
    "plt.bar(digits,number)\n",
    "plt.ylabel('Error cases')\n",
    "plt.show()\n"
   ],
   "metadata": {
    "collapsed": false,
    "pycharm": {
     "name": "#%%\n"
    }
   }
  }
 ],
 "metadata": {
  "kernelspec": {
   "display_name": "Python 3",
   "language": "python",
   "name": "python3"
  },
  "language_info": {
   "codemirror_mode": {
    "name": "ipython",
    "version": 2
   },
   "file_extension": ".py",
   "mimetype": "text/x-python",
   "name": "python",
   "nbconvert_exporter": "python",
   "pygments_lexer": "ipython2",
   "version": "2.7.6"
  }
 },
 "nbformat": 4,
 "nbformat_minor": 0
}