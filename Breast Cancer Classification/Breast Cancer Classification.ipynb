{
 "cells": [
  {
   "cell_type": "markdown",
   "metadata": {
    "collapsed": true,
    "pycharm": {
     "name": "#%% md\n"
    }
   },
   "source": [
    "# Breast Cancer Classification\n",
    "## Comparing self built model with library models\n",
    "In this Jupyter Notebook a self built Neural Network, used for classification is compared to standard library models."
   ]
  },
  {
   "cell_type": "markdown",
   "metadata": {
    "pycharm": {
     "name": "#%% md\n"
    }
   },
   "source": [
    "### Import Data\n",
    "All imported data was downloaded from https://archive.ics.uci.edu/ml/datasets/Breast+Cancer+Wisconsin+%28Original%29."
   ]
  },
  {
   "cell_type": "code",
   "execution_count": 37,
   "metadata": {
    "pycharm": {
     "name": "#%%\n"
    }
   },
   "outputs": [],
   "source": [
    "import numpy as np\n",
    "import matplotlib.pyplot as plt\n",
    "from sklearn.datasets import load_breast_cancer\n",
    "\n",
    "data = np.genfromtxt('BreastCancer.csv', delimiter=',')\n",
    "data[np.isnan(data) == True] = 0\n",
    "Data = data[:,1:10]/10\n",
    "Tg = data[:,10]\n",
    "\n",
    "Target = np.zeros((Tg.shape[0],2))\n",
    "\n",
    "for i in range(len(Tg)):\n",
    "    if Tg[i] == 4:\n",
    "        Target[i,1] = 1\n",
    "    else: Target[i,0] = 1\n",
    "\n",
    "Train_Features = Data[0:400,:]\n",
    "Train_Target = Target[0:400,:]\n",
    "Test_Features = Data[401:,:]\n",
    "Test_Target = Target[401:,:]\n"
   ]
  },
  {
   "cell_type": "markdown",
   "metadata": {
    "pycharm": {
     "name": "#%% md\n"
    }
   },
   "source": [
    "## Self developed Neural Network\n",
    "Neural Network with variable architecture. Sigmoid as activation function."
   ]
  },
  {
   "cell_type": "code",
   "execution_count": 38,
   "metadata": {
    "pycharm": {
     "name": "#%%\n"
    }
   },
   "outputs": [],
   "source": [
    "def sigmoid(x):\n",
    "    return 1/(1+np.e ** -x)\n",
    "def d_sigmoid(x):\n",
    "    return x * (1-x)\n",
    "\n",
    "activation_func = sigmoid\n",
    "d_activation_func = d_sigmoid\n",
    "\n",
    "NN_architecture = [\n",
    "    {\"inputs\":9, \"neurons\":5},\n",
    "    {\"inputs\":5, \"neurons\":2}\n",
    "]\n",
    "\n",
    "def forward_single_layer(out_prev, w_curr, b_curr):\n",
    "        return activation_func(np.dot(w_curr, out_prev)+b_curr)\n",
    "\n",
    "class NeuralNetwork:\n",
    "    def __init__(self, architecture):\n",
    "        self.architecture = architecture\n",
    "        self.parameters = {}\n",
    "        for idx, layer in enumerate(architecture):\n",
    "            layer_idx = idx+1\n",
    "            layer_input = layer[\"inputs\"]\n",
    "            layer_output = layer[\"neurons\"]\n",
    "            self.parameters['W'+str(layer_idx)] = np.random.randn(layer_output,layer_input)\n",
    "            self.parameters['B'+str(layer_idx)] = np.random.randn(layer_output,1)\n",
    "\n",
    "    def forward_propagation(self, inputs):\n",
    "        inputs = np.array(inputs, ndmin=2).T\n",
    "        out_curr = inputs\n",
    "        memory = {}\n",
    "        for idx, layer in enumerate(self.architecture):\n",
    "            layer_idx = idx+1\n",
    "            w_curr = self.parameters[\"W\"+str(layer_idx)]\n",
    "            b_curr = self.parameters[\"B\"+str(layer_idx)]\n",
    "            out_curr = forward_single_layer(out_prev=out_curr,w_curr=w_curr,b_curr=b_curr)\n",
    "            memory[idx] = out_curr\n",
    "        return out_curr, memory\n",
    "\n",
    "\n",
    "    def train_iteration(self, inputs, target, learn_rate):\n",
    "        target = np.array(target, ndmin=2).T\n",
    "        output, memory = self.forward_propagation(inputs)\n",
    "        inputs = np.array(inputs, ndmin=2).T\n",
    "        loss = 0\n",
    "        for idx, layer in reversed(list(enumerate(self.architecture))):\n",
    "            layer_idx = idx+1\n",
    "            if layer_idx == len(self.architecture):\n",
    "                loss += target - output\n",
    "                adjust_w = learn_rate*1/layer[\"neurons\"]*(loss*d_activation_func(memory[idx])).dot(memory[idx-1].T)\n",
    "                adjust_b = learn_rate*1/layer[\"neurons\"]*loss*d_activation_func(memory[idx])\n",
    "                self.parameters[\"W\"+str(layer_idx)] += (adjust_w/learn_rate - adjust_b)*learn_rate\n",
    "                self.parameters[\"B\"+str(layer_idx)] += adjust_b\n",
    "            elif layer_idx == 1:\n",
    "                loss = self.parameters[\"W\"+str(layer_idx+1)].T.dot(loss)\n",
    "                adjust_w = learn_rate*1/layer[\"neurons\"]*(loss*d_activation_func(memory[idx])).dot(inputs.T)\n",
    "                adjust_b = learn_rate*1/layer[\"neurons\"]*loss*d_activation_func(memory[idx])\n",
    "                self.parameters[\"W\"+str(layer_idx)] += (adjust_w/learn_rate - adjust_b)*learn_rate\n",
    "                self.parameters[\"B\"+str(layer_idx)] += adjust_b\n",
    "            else:\n",
    "                loss = self.parameters[\"W\"+str(layer_idx+1)].T.dot(loss)\n",
    "                adjust_w = learn_rate*1/layer[\"neurons\"]*(loss*d_activation_func(memory[idx])).dot(memory[idx-1].T)\n",
    "                adjust_b = learn_rate*1/layer[\"neurons\"]*loss*d_activation_func(memory[idx])\n",
    "                self.parameters[\"W\"+str(layer_idx)] += (adjust_w/learn_rate - adjust_b)*learn_rate\n",
    "                self.parameters[\"B\"+str(layer_idx)] += adjust_b\n",
    "\n",
    "    def train(self, inputs, targets, epoches):\n",
    "        for epoch in range(epoches):\n",
    "            shuffler = np.random.permutation(len(targets))\n",
    "            inputs = inputs[shuffler]\n",
    "            targets = targets[shuffler]\n",
    "            for i in range(0,400):\n",
    "                inputdata = inputs[i,:]\n",
    "                target = targets[i,:]\n",
    "                self.train_iteration(inputdata, target, 0.1)\n",
    "            if epoch/epoches * 100 % 10 == 0:\n",
    "                print('Training Processed: '+str(epoch/epoches*100)+'%')\n",
    "NN = NeuralNetwork(NN_architecture)"
   ]
  },
  {
   "cell_type": "markdown",
   "metadata": {
    "pycharm": {
     "name": "#%% md\n"
    }
   },
   "source": [
    "### Train Neural Network with Training Data"
   ]
  },
  {
   "cell_type": "code",
   "execution_count": 39,
   "metadata": {
    "pycharm": {
     "name": "#%%\n"
    }
   },
   "outputs": [
    {
     "name": "stdout",
     "output_type": "stream",
     "text": [
      "Training Processed: 0.0%\n",
      "Training Processed: 10.0%\n",
      "Training Processed: 20.0%\n",
      "Training Processed: 30.0%\n",
      "Training Processed: 40.0%\n",
      "Training Processed: 50.0%\n",
      "Training Processed: 60.0%\n",
      "Training Processed: 70.0%\n",
      "Training Processed: 80.0%\n",
      "Training Processed: 90.0%\n"
     ]
    }
   ],
   "source": [
    "NN.train(Train_Features,Train_Target,10)"
   ]
  },
  {
   "cell_type": "markdown",
   "metadata": {
    "pycharm": {
     "name": "#%% md\n"
    }
   },
   "source": [
    "### Test Neural Network on Testing Data"
   ]
  },
  {
   "cell_type": "code",
   "execution_count": 40,
   "metadata": {
    "pycharm": {
     "name": "#%%\n"
    }
   },
   "outputs": [
    {
     "name": "stdout",
     "output_type": "stream",
     "text": [
      "Performance of prediction:  98.99328859060402 %\n"
     ]
    }
   ],
   "source": [
    "count = 0\n",
    "predict = np.empty((298,2))\n",
    "for i in range(298):\n",
    "    out, mem = NN.forward_propagation(Test_Features[i,:])\n",
    "    predict[[i],:] = out.T\n",
    "    if np.argmax(out) == np.argmax(Test_Target[i,:]):\n",
    "        count += 1\n",
    "performance = (count/298)*100\n",
    "print('Performance of prediction: ', performance, '%')"
   ]
  },
  {
   "cell_type": "markdown",
   "metadata": {
    "pycharm": {
     "name": "#%% md\n"
    }
   },
   "source": [
    "## SKLEARN Toolbox Neural Network"
   ]
  },
  {
   "cell_type": "code",
   "execution_count": 41,
   "metadata": {
    "pycharm": {
     "name": "#%%\n"
    }
   },
   "outputs": [
    {
     "name": "stdout",
     "output_type": "stream",
     "text": [
      "Performance of prediction:  98.65771812080537 %\n"
     ]
    }
   ],
   "source": [
    "from sklearn.neural_network import MLPClassifier\n",
    "clf = MLPClassifier(solver='sgd',hidden_layer_sizes=(5,), random_state=1, learning_rate_init=0.1, )\n",
    "clf.fit(Train_Features, Train_Target)\n",
    "\n",
    "count = 0\n",
    "predict = np.empty((298,2))\n",
    "for i in range(298):\n",
    "    out = clf.predict(Test_Features[i,:].reshape(1,-1))\n",
    "    predict[[i],:] = out\n",
    "    if np.argmax(out) == np.argmax(Test_Target[i,:]):\n",
    "        count += 1\n",
    "performance = (count/298)*100\n",
    "print('Performance of prediction: ', performance, '%')"
   ]
  },
  {
   "cell_type": "markdown",
   "metadata": {
    "pycharm": {
     "name": "#%% md\n"
    }
   },
   "source": [
    "## NEUROLAB Toolbox Neural Network"
   ]
  },
  {
   "cell_type": "code",
   "execution_count": 42,
   "metadata": {
    "pycharm": {
     "name": "#%%\n"
    }
   },
   "outputs": [
    {
     "name": "stdout",
     "output_type": "stream",
     "text": [
      "The maximum number of train epochs is reached\n",
      "Performance of prediction:  98.65771812080537 %\n"
     ]
    }
   ],
   "source": [
    "import neurolab as nl\n",
    "net = nl.net.newff([[0,1],[0,1],[0,1],[0,1],[0,1],[0,1],[0,1],[0,1],[0,1]],[5, 2])\n",
    "error = net.train(Train_Features,Train_Target,epochs=20)\n",
    "\n",
    "count = 0\n",
    "predict = np.empty((298,2))\n",
    "for i in range(298):\n",
    "    out = net.sim(Test_Features[i,:].reshape(1,-1))\n",
    "    predict[[i],:] = out\n",
    "    if np.argmax(out) == np.argmax(Test_Target[i,:]):\n",
    "        count += 1\n",
    "performance = (count/298)*100\n",
    "print('Performance of prediction: ', performance, '%')\n",
    "\n",
    "\n",
    "\n"
   ]
  }
 ],
 "metadata": {
  "kernelspec": {
   "display_name": "Python 3",
   "language": "python",
   "name": "python3"
  },
  "language_info": {
   "codemirror_mode": {
    "name": "ipython",
    "version": 3
   },
   "file_extension": ".py",
   "mimetype": "text/x-python",
   "name": "python",
   "nbconvert_exporter": "python",
   "pygments_lexer": "ipython3",
   "version": "3.9.2"
  }
 },
 "nbformat": 4,
 "nbformat_minor": 1
}